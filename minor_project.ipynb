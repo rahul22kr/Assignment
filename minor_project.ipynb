{
  "nbformat": 4,
  "nbformat_minor": 0,
  "metadata": {
    "colab": {
      "provenance": [],
      "authorship_tag": "ABX9TyPSUj5AFvrgf1vkUYA83BWI",
      "include_colab_link": true
    },
    "kernelspec": {
      "name": "python3",
      "display_name": "Python 3"
    },
    "language_info": {
      "name": "python"
    }
  },
  "cells": [
    {
      "cell_type": "markdown",
      "metadata": {
        "id": "view-in-github",
        "colab_type": "text"
      },
      "source": [
        "<a href=\"https://colab.research.google.com/github/rahul22kr/Assignment/blob/main/minor_project.ipynb\" target=\"_parent\"><img src=\"https://colab.research.google.com/assets/colab-badge.svg\" alt=\"Open In Colab\"/></a>"
      ]
    },
    {
      "cell_type": "code",
      "execution_count": null,
      "metadata": {
        "colab": {
          "base_uri": "https://localhost:8080/",
          "height": 357
        },
        "id": "dLYfp-5iHQXk",
        "outputId": "1d257eb8-af34-488e-d861-82d99b1a8c85"
      },
      "outputs": [
        {
          "output_type": "error",
          "ename": "TclError",
          "evalue": "ignored",
          "traceback": [
            "\u001b[0;31m---------------------------------------------------------------------------\u001b[0m",
            "\u001b[0;31mTclError\u001b[0m                                  Traceback (most recent call last)",
            "\u001b[0;32m<ipython-input-1-7d2dd15ccc09>\u001b[0m in \u001b[0;36m<module>\u001b[0;34m\u001b[0m\n\u001b[1;32m     64\u001b[0m                 \u001b[0mlabel\u001b[0m\u001b[0;34m[\u001b[0m\u001b[0;34m'text'\u001b[0m\u001b[0;34m]\u001b[0m\u001b[0;34m=\u001b[0m\u001b[0;34m'Starting...'\u001b[0m\u001b[0;34m\u001b[0m\u001b[0;34m\u001b[0m\u001b[0m\n\u001b[1;32m     65\u001b[0m \u001b[0;34m\u001b[0m\u001b[0m\n\u001b[0;32m---> 66\u001b[0;31m \u001b[0mroot\u001b[0m \u001b[0;34m=\u001b[0m \u001b[0mTkinter\u001b[0m\u001b[0;34m.\u001b[0m\u001b[0mTk\u001b[0m\u001b[0;34m(\u001b[0m\u001b[0;34m)\u001b[0m\u001b[0;34m\u001b[0m\u001b[0;34m\u001b[0m\u001b[0m\n\u001b[0m\u001b[1;32m     67\u001b[0m \u001b[0mroot\u001b[0m\u001b[0;34m.\u001b[0m\u001b[0mtitle\u001b[0m\u001b[0;34m(\u001b[0m\u001b[0;34m\"Countdown Timer\"\u001b[0m\u001b[0;34m)\u001b[0m\u001b[0;34m\u001b[0m\u001b[0;34m\u001b[0m\u001b[0m\n\u001b[1;32m     68\u001b[0m \u001b[0;34m\u001b[0m\u001b[0m\n",
            "\u001b[0;32m/usr/lib/python3.8/tkinter/__init__.py\u001b[0m in \u001b[0;36m__init__\u001b[0;34m(self, screenName, baseName, className, useTk, sync, use)\u001b[0m\n\u001b[1;32m   2268\u001b[0m                 \u001b[0mbaseName\u001b[0m \u001b[0;34m=\u001b[0m \u001b[0mbaseName\u001b[0m \u001b[0;34m+\u001b[0m \u001b[0mext\u001b[0m\u001b[0;34m\u001b[0m\u001b[0;34m\u001b[0m\u001b[0m\n\u001b[1;32m   2269\u001b[0m         \u001b[0minteractive\u001b[0m \u001b[0;34m=\u001b[0m \u001b[0;36m0\u001b[0m\u001b[0;34m\u001b[0m\u001b[0;34m\u001b[0m\u001b[0m\n\u001b[0;32m-> 2270\u001b[0;31m         \u001b[0mself\u001b[0m\u001b[0;34m.\u001b[0m\u001b[0mtk\u001b[0m \u001b[0;34m=\u001b[0m \u001b[0m_tkinter\u001b[0m\u001b[0;34m.\u001b[0m\u001b[0mcreate\u001b[0m\u001b[0;34m(\u001b[0m\u001b[0mscreenName\u001b[0m\u001b[0;34m,\u001b[0m \u001b[0mbaseName\u001b[0m\u001b[0;34m,\u001b[0m \u001b[0mclassName\u001b[0m\u001b[0;34m,\u001b[0m \u001b[0minteractive\u001b[0m\u001b[0;34m,\u001b[0m \u001b[0mwantobjects\u001b[0m\u001b[0;34m,\u001b[0m \u001b[0museTk\u001b[0m\u001b[0;34m,\u001b[0m \u001b[0msync\u001b[0m\u001b[0;34m,\u001b[0m \u001b[0muse\u001b[0m\u001b[0;34m)\u001b[0m\u001b[0;34m\u001b[0m\u001b[0;34m\u001b[0m\u001b[0m\n\u001b[0m\u001b[1;32m   2271\u001b[0m         \u001b[0;32mif\u001b[0m \u001b[0museTk\u001b[0m\u001b[0;34m:\u001b[0m\u001b[0;34m\u001b[0m\u001b[0;34m\u001b[0m\u001b[0m\n\u001b[1;32m   2272\u001b[0m             \u001b[0mself\u001b[0m\u001b[0;34m.\u001b[0m\u001b[0m_loadtk\u001b[0m\u001b[0;34m(\u001b[0m\u001b[0;34m)\u001b[0m\u001b[0;34m\u001b[0m\u001b[0;34m\u001b[0m\u001b[0m\n",
            "\u001b[0;31mTclError\u001b[0m: no display name and no $DISPLAY environment variable"
          ]
        }
      ],
      "source": [
        "# Python program to illustrate a countdown timer\n",
        "# using Tkinter\n",
        "#importing the required libraries\n",
        "import tkinter as Tkinter\n",
        "from datetime import datetime\n",
        "counter = 66600\n",
        "running = False\n",
        "def counter_label(label):\n",
        "\tdef count():\n",
        "\t\tif running:\n",
        "\t\t\tglobal counter\n",
        "\n",
        "\t\t\t# To manage the initial delay.\n",
        "\t\t\tif counter==66600:\t\t\t\n",
        "\t\t\t\tdisplay=\"Starting...\"\n",
        "\t\t\telse:\n",
        "\t\t\t\ttt = datetime.fromtimestamp(counter)\n",
        "\t\t\t\tstring = tt.strftime(\"%H:%M:%S\")\n",
        "\t\t\t\tdisplay=string\n",
        "\n",
        "\t\t\tlabel['text']=display # Or label.config(text=display)\n",
        "\n",
        "\t\t\t# label.after(arg1, arg2) delays by\n",
        "\t\t\t# first argument given in milliseconds\n",
        "\t\t\t# and then calls the function given as second argument.\n",
        "\t\t\t# Generally like here we need to call the\n",
        "\t\t\t# function in which it is present repeatedly.\n",
        "\t\t\t# Delays by 1000ms=1 seconds and call count again.\n",
        "\t\t\tlabel.after(1000, count)\n",
        "\t\t\tcounter -= 1\n",
        "\n",
        "\t# Triggering the start of the counter.\n",
        "\tcount()\t\n",
        "\n",
        "# start function of the stopwatch\n",
        "def Start(label):\n",
        "\tglobal running\n",
        "\trunning=True\n",
        "\tcounter_label(label)\n",
        "\tstart['state']='disabled'\n",
        "\tstop['state']='normal'\n",
        "\treset['state']='normal'\n",
        "\n",
        "# Stop function of the stopwatch\n",
        "def Stop():\n",
        "\tglobal running\n",
        "\tstart['state']='normal'\n",
        "\tstop['state']='disabled'\n",
        "\treset['state']='normal'\n",
        "\trunning = False\n",
        "\n",
        "# Reset function of the stopwatch\n",
        "def Reset(label):\n",
        "\tglobal counter\n",
        "\tcounter=66600\n",
        "\n",
        "\t# If rest is pressed after pressing stop.\n",
        "\tif running==False:\t\n",
        "\t\treset['state']='disabled'\n",
        "\t\tlabel['text']='00:00:00'\n",
        "\n",
        "\t# If reset is pressed while the stopwatch is running.\n",
        "\telse:\t\t\t\n",
        "\t\tlabel['text']='Starting...'\n",
        "\n",
        "root = Tkinter.Tk()\n",
        "root.title(\"Countdown Timer\")\n",
        "\n",
        "# Fixing the window size.\n",
        "root.minsize(width=250, height=210)\n",
        "label = Tkinter.Label(root, text=\"00:00:00\", fg=\"white\",bg=\"blue\", font=\"Verdana 30 bold\")\n",
        "label.pack()\n",
        "f = Tkinter.Frame(root)\n",
        "start = Tkinter.Button(f, text='Start', width=6, command=lambda:Start(label))\n",
        "stop = Tkinter.Button(f, text='Stop',width=6,state='disabled', command=Stop)\n",
        "reset = Tkinter.Button(f, text='Reset',width=6, state='disabled', command=lambda:Reset(label))\n",
        "f.pack(anchor = 'center',pady=5)\n",
        "start.pack(side=\"left\")\n",
        "stop.pack(side =\"left\")\n",
        "reset.pack(side=\"left\")\n",
        "root.mainloop()\n"
      ]
    }
  ]
}